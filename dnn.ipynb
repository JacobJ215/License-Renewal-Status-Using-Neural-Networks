{
 "cells": [
  {
   "cell_type": "markdown",
   "metadata": {},
   "source": [
    "# Business Problem\n",
    "\n",
    "1. **Objective**\n",
    "   - To assess if a customer's license should be issued(AAI), renewed(REV) or cancelled(AAC) depending on various parameters\n",
    "   - Learn from various features of applications rejected or given in the past to come up with a decision\n",
    "\n",
    "\n",
    "2. **Machine Learning Problem**\n",
    "   - Develop a machine learning model to learn relation of the target variable with the set of features available from the training data\n",
    "\n",
    "\n",
    "3. **Technology**\n",
    "   - Python, h2O, Scikit-learn, tensorflow, keras, Pandas, Numpy\n",
    "   \n",
    "\n",
    "4. **Decision making**\n",
    "   - Select the best model which performs the best w.r.t better accuracy\n",
    "   - Metrics: Accuracy\n",
    "   \n",
    "\n",
    "5. **Deployment**\n",
    "   - Deploy model in a scalable way so that business decisions can be taken in near real time in assessing a customer's license worthiness"
   ]
  },
  {
   "cell_type": "markdown",
   "metadata": {},
   "source": [
    "### Import Libraries"
   ]
  },
  {
   "cell_type": "code",
   "execution_count": 26,
   "metadata": {},
   "outputs": [],
   "source": [
    "import h2o\n",
    "from h2o.estimators import H2OGradientBoostingEstimator, H2ORandomForestEstimator\n",
    "\n",
    "import numpy as np\n",
    "import pandas as pd\n",
    "import seaborn as sns\n",
    "import matplotlib.pyplot as plt\n",
    "from sklearn.model_selection import train_test_split"
   ]
  },
  {
   "cell_type": "code",
   "execution_count": 27,
   "metadata": {},
   "outputs": [
    {
     "name": "stdout",
     "output_type": "stream",
     "text": [
      "Checking whether there is an H2O instance running at http://localhost:54321 . connected.\n"
     ]
    },
    {
     "data": {
      "text/html": [
       "\n",
       "<style>\n",
       "\n",
       "#h2o-table-2.h2o-container {\n",
       "  overflow-x: auto;\n",
       "}\n",
       "#h2o-table-2 .h2o-table {\n",
       "  /* width: 100%; */\n",
       "  margin-top: 1em;\n",
       "  margin-bottom: 1em;\n",
       "}\n",
       "#h2o-table-2 .h2o-table caption {\n",
       "  white-space: nowrap;\n",
       "  caption-side: top;\n",
       "  text-align: left;\n",
       "  /* margin-left: 1em; */\n",
       "  margin: 0;\n",
       "  font-size: larger;\n",
       "}\n",
       "#h2o-table-2 .h2o-table thead {\n",
       "  white-space: nowrap; \n",
       "  position: sticky;\n",
       "  top: 0;\n",
       "  box-shadow: 0 -1px inset;\n",
       "}\n",
       "#h2o-table-2 .h2o-table tbody {\n",
       "  overflow: auto;\n",
       "}\n",
       "#h2o-table-2 .h2o-table th,\n",
       "#h2o-table-2 .h2o-table td {\n",
       "  text-align: right;\n",
       "  /* border: 1px solid; */\n",
       "}\n",
       "#h2o-table-2 .h2o-table tr:nth-child(even) {\n",
       "  /* background: #F5F5F5 */\n",
       "}\n",
       "\n",
       "</style>      \n",
       "<div id=\"h2o-table-2\" class=\"h2o-container\">\n",
       "  <table class=\"h2o-table\">\n",
       "    <caption></caption>\n",
       "    <thead></thead>\n",
       "    <tbody><tr><td>H2O_cluster_uptime:</td>\n",
       "<td>21 mins 57 secs</td></tr>\n",
       "<tr><td>H2O_cluster_timezone:</td>\n",
       "<td>America/New_York</td></tr>\n",
       "<tr><td>H2O_data_parsing_timezone:</td>\n",
       "<td>UTC</td></tr>\n",
       "<tr><td>H2O_cluster_version:</td>\n",
       "<td>3.38.0.2</td></tr>\n",
       "<tr><td>H2O_cluster_version_age:</td>\n",
       "<td>23 days </td></tr>\n",
       "<tr><td>H2O_cluster_name:</td>\n",
       "<td>H2O_from_python_jacob_gp4osy</td></tr>\n",
       "<tr><td>H2O_cluster_total_nodes:</td>\n",
       "<td>1</td></tr>\n",
       "<tr><td>H2O_cluster_free_memory:</td>\n",
       "<td>6.714 Gb</td></tr>\n",
       "<tr><td>H2O_cluster_total_cores:</td>\n",
       "<td>10</td></tr>\n",
       "<tr><td>H2O_cluster_allowed_cores:</td>\n",
       "<td>10</td></tr>\n",
       "<tr><td>H2O_cluster_status:</td>\n",
       "<td>locked, healthy</td></tr>\n",
       "<tr><td>H2O_connection_url:</td>\n",
       "<td>http://localhost:54321</td></tr>\n",
       "<tr><td>H2O_connection_proxy:</td>\n",
       "<td>{\"http\": null, \"https\": null}</td></tr>\n",
       "<tr><td>H2O_internal_security:</td>\n",
       "<td>False</td></tr>\n",
       "<tr><td>Python_version:</td>\n",
       "<td>3.8.13 final</td></tr></tbody>\n",
       "  </table>\n",
       "</div>\n"
      ],
      "text/plain": [
       "--------------------------  -----------------------------\n",
       "H2O_cluster_uptime:         21 mins 57 secs\n",
       "H2O_cluster_timezone:       America/New_York\n",
       "H2O_data_parsing_timezone:  UTC\n",
       "H2O_cluster_version:        3.38.0.2\n",
       "H2O_cluster_version_age:    23 days\n",
       "H2O_cluster_name:           H2O_from_python_jacob_gp4osy\n",
       "H2O_cluster_total_nodes:    1\n",
       "H2O_cluster_free_memory:    6.714 Gb\n",
       "H2O_cluster_total_cores:    10\n",
       "H2O_cluster_allowed_cores:  10\n",
       "H2O_cluster_status:         locked, healthy\n",
       "H2O_connection_url:         http://localhost:54321\n",
       "H2O_connection_proxy:       {\"http\": null, \"https\": null}\n",
       "H2O_internal_security:      False\n",
       "Python_version:             3.8.13 final\n",
       "--------------------------  -----------------------------"
      ]
     },
     "metadata": {},
     "output_type": "display_data"
    }
   ],
   "source": [
    "h2o.init()"
   ]
  },
  {
   "cell_type": "code",
   "execution_count": 28,
   "metadata": {},
   "outputs": [],
   "source": [
    "pd.set_option('display.max_columns', 500)\n",
    "pd.set_option('display.max_rows', 500)"
   ]
  },
  {
   "cell_type": "markdown",
   "metadata": {},
   "source": [
    "### Load in Data"
   ]
  },
  {
   "cell_type": "code",
   "execution_count": 29,
   "metadata": {},
   "outputs": [
    {
     "name": "stderr",
     "output_type": "stream",
     "text": [
      "/var/folders/dy/jf6_98vd5sn7lcgfvc6hj8h80000gn/T/ipykernel_77128/3556164403.py:1: DtypeWarning: Columns (9) have mixed types. Specify dtype option on import or set low_memory=False.\n",
      "  df = pd.read_csv(\"Data/License_Data.csv.xls\")\n"
     ]
    },
    {
     "data": {
      "text/html": [
       "<div>\n",
       "<style scoped>\n",
       "    .dataframe tbody tr th:only-of-type {\n",
       "        vertical-align: middle;\n",
       "    }\n",
       "\n",
       "    .dataframe tbody tr th {\n",
       "        vertical-align: top;\n",
       "    }\n",
       "\n",
       "    .dataframe thead th {\n",
       "        text-align: right;\n",
       "    }\n",
       "</style>\n",
       "<table border=\"1\" class=\"dataframe\">\n",
       "  <thead>\n",
       "    <tr style=\"text-align: right;\">\n",
       "      <th></th>\n",
       "      <th>ID</th>\n",
       "      <th>LICENSE_ID</th>\n",
       "      <th>ACCOUNT_NUMBER</th>\n",
       "      <th>SITE_NUMBER</th>\n",
       "      <th>LEGAL_NAME</th>\n",
       "      <th>DOING_BUSINESS_AS_NAME</th>\n",
       "      <th>ADDRESS</th>\n",
       "      <th>CITY</th>\n",
       "      <th>STATE</th>\n",
       "      <th>ZIP_CODE</th>\n",
       "      <th>WARD</th>\n",
       "      <th>PRECINCT</th>\n",
       "      <th>WARD_PRECINCT</th>\n",
       "      <th>POLICE_DISTRICT</th>\n",
       "      <th>LICENSE_CODE</th>\n",
       "      <th>LICENSE_DESCRIPTION</th>\n",
       "      <th>LICENSE_NUMBER</th>\n",
       "      <th>APPLICATION_TYPE</th>\n",
       "      <th>APPLICATION_CREATED_DATE</th>\n",
       "      <th>APPLICATION_REQUIREMENTS_COMPLETE</th>\n",
       "      <th>PAYMENT_DATE</th>\n",
       "      <th>CONDITIONAL_APPROVAL</th>\n",
       "      <th>LICENSE_TERM_START_DATE</th>\n",
       "      <th>LICENSE_TERM_EXPIRATION_DATE</th>\n",
       "      <th>LICENSE_APPROVED_FOR_ISSUANCE</th>\n",
       "      <th>DATE_ISSUED</th>\n",
       "      <th>LICENSE_STATUS_CHANGE_DATE</th>\n",
       "      <th>SSA</th>\n",
       "      <th>LATITUDE</th>\n",
       "      <th>LONGITUDE</th>\n",
       "      <th>LOCATION</th>\n",
       "      <th>LICENSE_STATUS</th>\n",
       "    </tr>\n",
       "  </thead>\n",
       "  <tbody>\n",
       "    <tr>\n",
       "      <th>0</th>\n",
       "      <td>35342-20020816</td>\n",
       "      <td>1256593</td>\n",
       "      <td>32811</td>\n",
       "      <td>1</td>\n",
       "      <td>CARMEN CAHUE</td>\n",
       "      <td>CLAUDIA'S BRIDAL SHOP</td>\n",
       "      <td>2625 S CENTRAL PARK AVE  1</td>\n",
       "      <td>CHICAGO</td>\n",
       "      <td>IL</td>\n",
       "      <td>60623.0</td>\n",
       "      <td>22.0</td>\n",
       "      <td>28.0</td>\n",
       "      <td>22-28</td>\n",
       "      <td>10.0</td>\n",
       "      <td>1010</td>\n",
       "      <td>Limited Business License</td>\n",
       "      <td>35342.0</td>\n",
       "      <td>RENEW</td>\n",
       "      <td>NaN</td>\n",
       "      <td>2002-06-28T00:00:00</td>\n",
       "      <td>2002-08-21T00:00:00</td>\n",
       "      <td>N</td>\n",
       "      <td>2002-08-16T00:00:00</td>\n",
       "      <td>2003-08-15T00:00:00</td>\n",
       "      <td>2002-08-21T00:00:00</td>\n",
       "      <td>2006-04-11T00:00:00</td>\n",
       "      <td>NaN</td>\n",
       "      <td>25.0</td>\n",
       "      <td>41.843613</td>\n",
       "      <td>-87.714618</td>\n",
       "      <td>{'latitude': '41.843612879431845', 'longitude'...</td>\n",
       "      <td>AAI</td>\n",
       "    </tr>\n",
       "    <tr>\n",
       "      <th>1</th>\n",
       "      <td>1358463-20051116</td>\n",
       "      <td>1639294</td>\n",
       "      <td>262311</td>\n",
       "      <td>29</td>\n",
       "      <td>ISLA TROPICAL, INC.</td>\n",
       "      <td>ISLA TROPICAL</td>\n",
       "      <td>2825 W MONTROSE AVE</td>\n",
       "      <td>CHICAGO</td>\n",
       "      <td>IL</td>\n",
       "      <td>60618</td>\n",
       "      <td>33.0</td>\n",
       "      <td>23.0</td>\n",
       "      <td>33-23</td>\n",
       "      <td>17.0</td>\n",
       "      <td>1315</td>\n",
       "      <td>Mobile Food Dispenser</td>\n",
       "      <td>1358463.0</td>\n",
       "      <td>RENEW</td>\n",
       "      <td>NaN</td>\n",
       "      <td>2005-09-22T00:00:00</td>\n",
       "      <td>2005-11-03T00:00:00</td>\n",
       "      <td>N</td>\n",
       "      <td>2005-11-16T00:00:00</td>\n",
       "      <td>2006-11-15T00:00:00</td>\n",
       "      <td>2006-04-05T00:00:00</td>\n",
       "      <td>2006-06-12T00:00:00</td>\n",
       "      <td>2006-06-15T00:00:00</td>\n",
       "      <td>60.0</td>\n",
       "      <td>41.961132</td>\n",
       "      <td>-87.699626</td>\n",
       "      <td>{'latitude': '41.96113244107215', 'longitude':...</td>\n",
       "      <td>AAC</td>\n",
       "    </tr>\n",
       "    <tr>\n",
       "      <th>2</th>\n",
       "      <td>1980233-20090722</td>\n",
       "      <td>1980233</td>\n",
       "      <td>345008</td>\n",
       "      <td>1</td>\n",
       "      <td>DJS REMODELING</td>\n",
       "      <td>DJS REMODELING, INC.</td>\n",
       "      <td>1605  CLAVEY RD 1</td>\n",
       "      <td>HIGHLAND</td>\n",
       "      <td>IL</td>\n",
       "      <td>60035</td>\n",
       "      <td>NaN</td>\n",
       "      <td>NaN</td>\n",
       "      <td>NaN</td>\n",
       "      <td>NaN</td>\n",
       "      <td>1011</td>\n",
       "      <td>Home Repair</td>\n",
       "      <td>1980233.0</td>\n",
       "      <td>ISSUE</td>\n",
       "      <td>2009-06-29T00:00:00</td>\n",
       "      <td>2009-07-22T00:00:00</td>\n",
       "      <td>2009-07-22T00:00:00</td>\n",
       "      <td>N</td>\n",
       "      <td>2009-07-22T00:00:00</td>\n",
       "      <td>2011-07-15T00:00:00</td>\n",
       "      <td>2009-07-22T00:00:00</td>\n",
       "      <td>2009-07-22T00:00:00</td>\n",
       "      <td>NaN</td>\n",
       "      <td>NaN</td>\n",
       "      <td>NaN</td>\n",
       "      <td>NaN</td>\n",
       "      <td>NaN</td>\n",
       "      <td>AAI</td>\n",
       "    </tr>\n",
       "    <tr>\n",
       "      <th>3</th>\n",
       "      <td>1476582-20040211</td>\n",
       "      <td>1476582</td>\n",
       "      <td>273121</td>\n",
       "      <td>1</td>\n",
       "      <td>ALL-BRY CONSTRUCTION CO.</td>\n",
       "      <td>ALL-BRY CONSTRUCTION CO.</td>\n",
       "      <td>8  NORTH TRAIL</td>\n",
       "      <td>LEMONT</td>\n",
       "      <td>IL</td>\n",
       "      <td>60439</td>\n",
       "      <td>NaN</td>\n",
       "      <td>NaN</td>\n",
       "      <td>NaN</td>\n",
       "      <td>NaN</td>\n",
       "      <td>1010</td>\n",
       "      <td>Limited Business License</td>\n",
       "      <td>1476582.0</td>\n",
       "      <td>ISSUE</td>\n",
       "      <td>2004-02-10T00:00:00</td>\n",
       "      <td>2004-02-10T00:00:00</td>\n",
       "      <td>2004-02-10T00:00:00</td>\n",
       "      <td>N</td>\n",
       "      <td>2004-02-11T00:00:00</td>\n",
       "      <td>2005-02-15T00:00:00</td>\n",
       "      <td>2004-02-10T00:00:00</td>\n",
       "      <td>2004-02-11T00:00:00</td>\n",
       "      <td>NaN</td>\n",
       "      <td>NaN</td>\n",
       "      <td>NaN</td>\n",
       "      <td>NaN</td>\n",
       "      <td>NaN</td>\n",
       "      <td>AAI</td>\n",
       "    </tr>\n",
       "    <tr>\n",
       "      <th>4</th>\n",
       "      <td>1141408-20080516</td>\n",
       "      <td>1896750</td>\n",
       "      <td>213785</td>\n",
       "      <td>1</td>\n",
       "      <td>MCDONOUGH MECHANICAL SERVICE</td>\n",
       "      <td>MCDONOUGH MECHANICAL SERVICE</td>\n",
       "      <td>4081  JOSEPH DR</td>\n",
       "      <td>WAUKEGAN</td>\n",
       "      <td>IL</td>\n",
       "      <td>60087</td>\n",
       "      <td>NaN</td>\n",
       "      <td>NaN</td>\n",
       "      <td>NaN</td>\n",
       "      <td>NaN</td>\n",
       "      <td>1010</td>\n",
       "      <td>Limited Business License</td>\n",
       "      <td>1141408.0</td>\n",
       "      <td>RENEW</td>\n",
       "      <td>NaN</td>\n",
       "      <td>2008-03-24T00:00:00</td>\n",
       "      <td>2008-06-04T00:00:00</td>\n",
       "      <td>N</td>\n",
       "      <td>2008-05-16T00:00:00</td>\n",
       "      <td>2010-05-15T00:00:00</td>\n",
       "      <td>2008-06-04T00:00:00</td>\n",
       "      <td>2008-06-05T00:00:00</td>\n",
       "      <td>NaN</td>\n",
       "      <td>NaN</td>\n",
       "      <td>NaN</td>\n",
       "      <td>NaN</td>\n",
       "      <td>NaN</td>\n",
       "      <td>AAI</td>\n",
       "    </tr>\n",
       "  </tbody>\n",
       "</table>\n",
       "</div>"
      ],
      "text/plain": [
       "                 ID  LICENSE_ID  ACCOUNT_NUMBER  SITE_NUMBER  \\\n",
       "0    35342-20020816     1256593           32811            1   \n",
       "1  1358463-20051116     1639294          262311           29   \n",
       "2  1980233-20090722     1980233          345008            1   \n",
       "3  1476582-20040211     1476582          273121            1   \n",
       "4  1141408-20080516     1896750          213785            1   \n",
       "\n",
       "                     LEGAL_NAME        DOING_BUSINESS_AS_NAME  \\\n",
       "0                  CARMEN CAHUE         CLAUDIA'S BRIDAL SHOP   \n",
       "1           ISLA TROPICAL, INC.                 ISLA TROPICAL   \n",
       "2                DJS REMODELING          DJS REMODELING, INC.   \n",
       "3      ALL-BRY CONSTRUCTION CO.      ALL-BRY CONSTRUCTION CO.   \n",
       "4  MCDONOUGH MECHANICAL SERVICE  MCDONOUGH MECHANICAL SERVICE   \n",
       "\n",
       "                      ADDRESS      CITY STATE ZIP_CODE  WARD  PRECINCT  \\\n",
       "0  2625 S CENTRAL PARK AVE  1   CHICAGO    IL  60623.0  22.0      28.0   \n",
       "1         2825 W MONTROSE AVE   CHICAGO    IL    60618  33.0      23.0   \n",
       "2           1605  CLAVEY RD 1  HIGHLAND    IL    60035   NaN       NaN   \n",
       "3              8  NORTH TRAIL    LEMONT    IL    60439   NaN       NaN   \n",
       "4             4081  JOSEPH DR  WAUKEGAN    IL    60087   NaN       NaN   \n",
       "\n",
       "  WARD_PRECINCT  POLICE_DISTRICT  LICENSE_CODE       LICENSE_DESCRIPTION  \\\n",
       "0         22-28             10.0          1010  Limited Business License   \n",
       "1         33-23             17.0          1315     Mobile Food Dispenser   \n",
       "2           NaN              NaN          1011               Home Repair   \n",
       "3           NaN              NaN          1010  Limited Business License   \n",
       "4           NaN              NaN          1010  Limited Business License   \n",
       "\n",
       "   LICENSE_NUMBER APPLICATION_TYPE APPLICATION_CREATED_DATE  \\\n",
       "0         35342.0            RENEW                      NaN   \n",
       "1       1358463.0            RENEW                      NaN   \n",
       "2       1980233.0            ISSUE      2009-06-29T00:00:00   \n",
       "3       1476582.0            ISSUE      2004-02-10T00:00:00   \n",
       "4       1141408.0            RENEW                      NaN   \n",
       "\n",
       "  APPLICATION_REQUIREMENTS_COMPLETE         PAYMENT_DATE CONDITIONAL_APPROVAL  \\\n",
       "0               2002-06-28T00:00:00  2002-08-21T00:00:00                    N   \n",
       "1               2005-09-22T00:00:00  2005-11-03T00:00:00                    N   \n",
       "2               2009-07-22T00:00:00  2009-07-22T00:00:00                    N   \n",
       "3               2004-02-10T00:00:00  2004-02-10T00:00:00                    N   \n",
       "4               2008-03-24T00:00:00  2008-06-04T00:00:00                    N   \n",
       "\n",
       "  LICENSE_TERM_START_DATE LICENSE_TERM_EXPIRATION_DATE  \\\n",
       "0     2002-08-16T00:00:00          2003-08-15T00:00:00   \n",
       "1     2005-11-16T00:00:00          2006-11-15T00:00:00   \n",
       "2     2009-07-22T00:00:00          2011-07-15T00:00:00   \n",
       "3     2004-02-11T00:00:00          2005-02-15T00:00:00   \n",
       "4     2008-05-16T00:00:00          2010-05-15T00:00:00   \n",
       "\n",
       "  LICENSE_APPROVED_FOR_ISSUANCE          DATE_ISSUED  \\\n",
       "0           2002-08-21T00:00:00  2006-04-11T00:00:00   \n",
       "1           2006-04-05T00:00:00  2006-06-12T00:00:00   \n",
       "2           2009-07-22T00:00:00  2009-07-22T00:00:00   \n",
       "3           2004-02-10T00:00:00  2004-02-11T00:00:00   \n",
       "4           2008-06-04T00:00:00  2008-06-05T00:00:00   \n",
       "\n",
       "  LICENSE_STATUS_CHANGE_DATE   SSA   LATITUDE  LONGITUDE  \\\n",
       "0                        NaN  25.0  41.843613 -87.714618   \n",
       "1        2006-06-15T00:00:00  60.0  41.961132 -87.699626   \n",
       "2                        NaN   NaN        NaN        NaN   \n",
       "3                        NaN   NaN        NaN        NaN   \n",
       "4                        NaN   NaN        NaN        NaN   \n",
       "\n",
       "                                            LOCATION LICENSE_STATUS  \n",
       "0  {'latitude': '41.843612879431845', 'longitude'...            AAI  \n",
       "1  {'latitude': '41.96113244107215', 'longitude':...            AAC  \n",
       "2                                                NaN            AAI  \n",
       "3                                                NaN            AAI  \n",
       "4                                                NaN            AAI  "
      ]
     },
     "execution_count": 29,
     "metadata": {},
     "output_type": "execute_result"
    }
   ],
   "source": [
    "df = pd.read_csv(\"Data/License_Data.csv.xls\")\n",
    "df.head()"
   ]
  },
  {
   "cell_type": "markdown",
   "metadata": {},
   "source": [
    "### EDA"
   ]
  },
  {
   "cell_type": "code",
   "execution_count": 30,
   "metadata": {},
   "outputs": [
    {
     "data": {
      "text/plain": [
       "(85895, 32)"
      ]
     },
     "execution_count": 30,
     "metadata": {},
     "output_type": "execute_result"
    }
   ],
   "source": [
    "# Check df shape\n",
    "df.shape"
   ]
  },
  {
   "cell_type": "code",
   "execution_count": 31,
   "metadata": {},
   "outputs": [
    {
     "data": {
      "text/plain": [
       "AAI    55400\n",
       "AAC    30200\n",
       "REV      290\n",
       "REA        3\n",
       "INQ        2\n",
       "Name: LICENSE_STATUS, dtype: int64"
      ]
     },
     "execution_count": 31,
     "metadata": {},
     "output_type": "execute_result"
    }
   ],
   "source": [
    "# Check the value count of our target variable\n",
    "df.LICENSE_STATUS.value_counts()"
   ]
  },
  {
   "cell_type": "code",
   "execution_count": 32,
   "metadata": {},
   "outputs": [],
   "source": [
    "# Limit the License Status to the 3 most common categrories\n",
    "df = df[df.LICENSE_STATUS.isin(['AAI', 'AAC', 'REV'])]"
   ]
  },
  {
   "cell_type": "code",
   "execution_count": 33,
   "metadata": {},
   "outputs": [
    {
     "data": {
      "text/plain": [
       "ID                                       0\n",
       "LICENSE_ID                               0\n",
       "ACCOUNT_NUMBER                           0\n",
       "SITE_NUMBER                              0\n",
       "LEGAL_NAME                               0\n",
       "DOING_BUSINESS_AS_NAME                   1\n",
       "ADDRESS                                  0\n",
       "CITY                                     0\n",
       "STATE                                    0\n",
       "ZIP_CODE                                31\n",
       "WARD                                 49699\n",
       "PRECINCT                             56699\n",
       "WARD_PRECINCT                        49698\n",
       "POLICE_DISTRICT                      54010\n",
       "LICENSE_CODE                             0\n",
       "LICENSE_DESCRIPTION                      0\n",
       "LICENSE_NUMBER                           1\n",
       "APPLICATION_TYPE                         0\n",
       "APPLICATION_CREATED_DATE             64657\n",
       "APPLICATION_REQUIREMENTS_COMPLETE      214\n",
       "PAYMENT_DATE                          1287\n",
       "CONDITIONAL_APPROVAL                     0\n",
       "LICENSE_TERM_START_DATE                228\n",
       "LICENSE_TERM_EXPIRATION_DATE            18\n",
       "LICENSE_APPROVED_FOR_ISSUANCE         6789\n",
       "DATE_ISSUED                              0\n",
       "LICENSE_STATUS_CHANGE_DATE           55400\n",
       "SSA                                  76442\n",
       "LATITUDE                             47244\n",
       "LONGITUDE                            47244\n",
       "LOCATION                             47244\n",
       "LICENSE_STATUS                           0\n",
       "dtype: int64"
      ]
     },
     "execution_count": 33,
     "metadata": {},
     "output_type": "execute_result"
    }
   ],
   "source": [
    "# Check nulls\n",
    "df.isnull().sum()"
   ]
  },
  {
   "cell_type": "code",
   "execution_count": 34,
   "metadata": {},
   "outputs": [
    {
     "name": "stdout",
     "output_type": "stream",
     "text": [
      "<class 'pandas.core.frame.DataFrame'>\n",
      "Int64Index: 85890 entries, 0 to 85894\n",
      "Data columns (total 32 columns):\n",
      " #   Column                             Non-Null Count  Dtype  \n",
      "---  ------                             --------------  -----  \n",
      " 0   ID                                 85890 non-null  object \n",
      " 1   LICENSE_ID                         85890 non-null  int64  \n",
      " 2   ACCOUNT_NUMBER                     85890 non-null  int64  \n",
      " 3   SITE_NUMBER                        85890 non-null  int64  \n",
      " 4   LEGAL_NAME                         85890 non-null  object \n",
      " 5   DOING_BUSINESS_AS_NAME             85889 non-null  object \n",
      " 6   ADDRESS                            85890 non-null  object \n",
      " 7   CITY                               85890 non-null  object \n",
      " 8   STATE                              85890 non-null  object \n",
      " 9   ZIP_CODE                           85859 non-null  object \n",
      " 10  WARD                               36191 non-null  float64\n",
      " 11  PRECINCT                           29191 non-null  float64\n",
      " 12  WARD_PRECINCT                      36192 non-null  object \n",
      " 13  POLICE_DISTRICT                    31880 non-null  float64\n",
      " 14  LICENSE_CODE                       85890 non-null  int64  \n",
      " 15  LICENSE_DESCRIPTION                85890 non-null  object \n",
      " 16  LICENSE_NUMBER                     85889 non-null  float64\n",
      " 17  APPLICATION_TYPE                   85890 non-null  object \n",
      " 18  APPLICATION_CREATED_DATE           21233 non-null  object \n",
      " 19  APPLICATION_REQUIREMENTS_COMPLETE  85676 non-null  object \n",
      " 20  PAYMENT_DATE                       84603 non-null  object \n",
      " 21  CONDITIONAL_APPROVAL               85890 non-null  object \n",
      " 22  LICENSE_TERM_START_DATE            85662 non-null  object \n",
      " 23  LICENSE_TERM_EXPIRATION_DATE       85872 non-null  object \n",
      " 24  LICENSE_APPROVED_FOR_ISSUANCE      79101 non-null  object \n",
      " 25  DATE_ISSUED                        85890 non-null  object \n",
      " 26  LICENSE_STATUS_CHANGE_DATE         30490 non-null  object \n",
      " 27  SSA                                9448 non-null   float64\n",
      " 28  LATITUDE                           38646 non-null  float64\n",
      " 29  LONGITUDE                          38646 non-null  float64\n",
      " 30  LOCATION                           38646 non-null  object \n",
      " 31  LICENSE_STATUS                     85890 non-null  object \n",
      "dtypes: float64(7), int64(4), object(21)\n",
      "memory usage: 21.6+ MB\n"
     ]
    }
   ],
   "source": [
    "# Get info\n",
    "df.info()"
   ]
  },
  {
   "cell_type": "code",
   "execution_count": 35,
   "metadata": {},
   "outputs": [
    {
     "data": {
      "text/plain": [
       "ID                                   85890\n",
       "LICENSE_ID                           85890\n",
       "ACCOUNT_NUMBER                       38895\n",
       "SITE_NUMBER                            177\n",
       "LEGAL_NAME                           38742\n",
       "DOING_BUSINESS_AS_NAME               41684\n",
       "ADDRESS                              42143\n",
       "CITY                                  1223\n",
       "STATE                                   54\n",
       "ZIP_CODE                              2456\n",
       "WARD                                    50\n",
       "PRECINCT                                76\n",
       "WARD_PRECINCT                         2383\n",
       "POLICE_DISTRICT                         28\n",
       "LICENSE_CODE                           106\n",
       "LICENSE_DESCRIPTION                    106\n",
       "LICENSE_NUMBER                       49764\n",
       "APPLICATION_TYPE                         5\n",
       "APPLICATION_CREATED_DATE              2899\n",
       "APPLICATION_REQUIREMENTS_COMPLETE     3078\n",
       "PAYMENT_DATE                          4356\n",
       "CONDITIONAL_APPROVAL                     2\n",
       "LICENSE_TERM_START_DATE               2825\n",
       "LICENSE_TERM_EXPIRATION_DATE           297\n",
       "LICENSE_APPROVED_FOR_ISSUANCE         4223\n",
       "DATE_ISSUED                           3498\n",
       "LICENSE_STATUS_CHANGE_DATE            3152\n",
       "SSA                                     53\n",
       "LATITUDE                             21384\n",
       "LONGITUDE                            21386\n",
       "LOCATION                             21386\n",
       "LICENSE_STATUS                           3\n",
       "dtype: int64"
      ]
     },
     "execution_count": 35,
     "metadata": {},
     "output_type": "execute_result"
    }
   ],
   "source": [
    "df.nunique()"
   ]
  },
  {
   "cell_type": "code",
   "execution_count": 36,
   "metadata": {},
   "outputs": [
    {
     "data": {
      "text/plain": [
       "<AxesSubplot: xlabel='LICENSE_STATUS', ylabel='count'>"
      ]
     },
     "execution_count": 36,
     "metadata": {},
     "output_type": "execute_result"
    },
    {
     "data": {
      "image/png": "[encoded data removed]",
      "text/plain": [
       "<Figure size 640x480 with 1 Axes>"
      ]
     },
     "metadata": {},
     "output_type": "display_data"
    }
   ],
   "source": [
    "# Plot the counts of License Status\n",
    "sns.set_theme(style=\"darkgrid\")\n",
    "sns.countplot(x = df.LICENSE_STATUS)"
   ]
  },
  {
   "cell_type": "markdown",
   "metadata": {},
   "source": [
    "### Data Cleaning"
   ]
  },
  {
   "cell_type": "code",
   "execution_count": 37,
   "metadata": {},
   "outputs": [],
   "source": [
    "df['LEGAL_BUSINESS_NAME_MATCH'] = df.apply(lambda x: 1 if str(x['LEGAL_NAME'].upper()) in str(x['DOING_BUSINESS_AS_NAME']).upper()\n",
    "                                        or str(x['DOING_BUSINESS_AS_NAME']).upper() in str(x['LEGAL_NAME']).upper() else 0,\n",
    "                                        axis=1)"
   ]
  },
  {
   "cell_type": "code",
   "execution_count": 38,
   "metadata": {},
   "outputs": [
    {
     "data": {
      "text/plain": [
       "Limited Business License                                        50077\n",
       "Home Repair                                                     10632\n",
       "Peddler, non-food                                                2812\n",
       "Home Occupation                                                  2809\n",
       "Retail Food Establishment                                        2320\n",
       "Massage Therapist                                                1952\n",
       "Street Performer                                                 1889\n",
       "Scavenger, Private                                               1549\n",
       "Hazardous Materials                                              1126\n",
       "Residential Real Estate Developer                                1087\n",
       "Motor Vehicle Repair : Engine Only (Class II)                     931\n",
       "Automatic Amusement Device Operator                               773\n",
       "Peddler, food (fruits and vegtables only)                         582\n",
       "Mobile Food Dispenser                                             525\n",
       "Manufacturing Establishments                                      458\n",
       "Broker                                                            439\n",
       "Motor Vehicle Repair: Engine/Body(Class III)                      382\n",
       "Electronic Equipment Repair                                       325\n",
       "Consumption on Premises - Incidental Activity                     321\n",
       "Peddler, non-food, special                                        308\n",
       "Day Care Center 2 - 6 Years                                       298\n",
       "Mobile Frozen Desserts Dispenser - Non-Motorized                  254\n",
       "Motor Vehicle Repair; Specialty(Class I)                          221\n",
       "Repossessor Class B Employee                                      212\n",
       "Package Goods                                                     174\n",
       "Auctioneer                                                        164\n",
       "Tire Facilty Class I (100 - 1,000 Tires)                          160\n",
       "Tavern                                                            151\n",
       "Day Care Center Under 2 and 2 - 6 Years                           133\n",
       "Junk Peddler                                                      132\n",
       "Hotel                                                             130\n",
       "Wholesale Food Establishment                                      127\n",
       "Massage Establishment                                             110\n",
       "Retail Computing Center                                           106\n",
       "Kennels and Catteries                                              96\n",
       "Board-Up Work                                                      92\n",
       "Day Care Center Under 2 Years                                      91\n",
       "Expediter - Class B                                                86\n",
       "Repossessor Class A                                                85\n",
       "Peddler,food - (fruits and vegetables only) - special              80\n",
       "Public Place of Amusement                                          79\n",
       "Children's Activities Facilities                                   78\n",
       "Long-Term Care Facility                                            76\n",
       "Expediter - Class A                                                75\n",
       "Laundry, Late Hour                                                 75\n",
       "Music and Dance                                                    74\n",
       "Tobacco Vending Machine Operator                                   72\n",
       "Grooming Facility                                                  69\n",
       "Navy Pier - Outdoor Fixed                                          62\n",
       "Pet Shop                                                           62\n",
       "Filling Station                                                    61\n",
       "Animal Care Facility                                               61\n",
       "Expediter - Class B Employee                                       60\n",
       "Vacation Rental                                                    54\n",
       "Veterinary Hospital                                                52\n",
       "Body Piercing                                                      52\n",
       "Single Room Occupancy Class I                                      49\n",
       "Raffles                                                            41\n",
       "Late Hour                                                          41\n",
       "Navy Pier Vendor (Non-Food)                                        40\n",
       "Itinerant Merchant, Class I                                        32\n",
       "Tire Facility Class II (1,001 - 5,000 Tires)                       32\n",
       "Outdoor Patio                                                      31\n",
       "Hospital                                                           29\n",
       "Day Labor Agency                                                   26\n",
       "Tobacco Vending, Individual                                        23\n",
       "Animal Exhibition                                                  22\n",
       "Laboratories                                                       22\n",
       "Night Care Privilege                                               21\n",
       "Tobacco Dealer Wholesale                                           18\n",
       "Accessory Garage                                                   17\n",
       "Bed-And-Breakfast Establishment                                    16\n",
       "Retail Food Est.-Supplemental License for Dog-Friendly Areas       15\n",
       "Single Room Occupancy Class II                                     15\n",
       "Itinerant Merchant, Class II                                        9\n",
       "Riverwalk Venue Liquor License                                      9\n",
       "Repossessor Class B                                                 9\n",
       "Explosives, Certificate of Fitness                                  9\n",
       "Caterer's Liquor License                                            8\n",
       "Produce Merchant                                                    8\n",
       "Humane Society                                                      8\n",
       "Public Place of Amusement-TCC                                       7\n",
       "Valet Parking Operator                                              7\n",
       "Secondhand Dealer - Children's Products                             6\n",
       "Wrigley Field                                                       5\n",
       "Pawnbroker                                                          5\n",
       "Bicycle Messenger Service                                           5\n",
       "Secondhand Dealer (No Valuable Objects)                             5\n",
       "Regulated Business License                                          4\n",
       "Weapons Dealer                                                      4\n",
       "Animal Care License                                                 4\n",
       "Assisted Living/Shared Housing Establishment                        4\n",
       "Performing Arts Venue                                               4\n",
       "Tobacco Sampler                                                     3\n",
       "Explosives                                                          2\n",
       "Navy Pier - Mobile                                                  2\n",
       "Private Booting Operation                                           2\n",
       "Tire Facility Class III (5,001 - More Tires)                        2\n",
       "Airport Pushcart Liquor O'Hare - Class A                            1\n",
       "Caterer's Registration (Liquor)                                     1\n",
       "Guard Dog Service                                                   1\n",
       "Indoor Special Event                                                1\n",
       "Affiliation                                                         1\n",
       "Airport Pushcart Liquor Midway - Class A                            1\n",
       "Not-For-Profit Club                                                 1\n",
       "Motor Vehicle Services License                                      1\n",
       "Name: LICENSE_DESCRIPTION, dtype: int64"
      ]
     },
     "execution_count": 38,
     "metadata": {},
     "output_type": "execute_result"
    }
   ],
   "source": [
    "df.LICENSE_DESCRIPTION.value_counts()"
   ]
  },
  {
   "cell_type": "code",
   "execution_count": 39,
   "metadata": {},
   "outputs": [],
   "source": [
    "df['LICENSE_DESCRIPTION'] = df['LICENSE_DESCRIPTION'].replace('Motor Vehicle Repair : Engine Only (Class II)', 'Motor Vehicle Repair')\n",
    "df['LICENSE_DESCRIPTION'] = df['LICENSE_DESCRIPTION'].replace('Motor Vehicle Repair: Engine/Body(Class III)', 'Motor Vehicle Repair')\n",
    "df['LICENSE_DESCRIPTION'] = df['LICENSE_DESCRIPTION'].replace('Motor Vehicle Repair; Specialty(Class I)', 'Motor Vehicle Repair')\n",
    "df['LICENSE_DESCRIPTION'] = df['LICENSE_DESCRIPTION'].replace('Day Care Center Under 2 Years', 'Day Care Center')\n",
    "df['LICENSE_DESCRIPTION'] = df['LICENSE_DESCRIPTION'].replace('Day Care Center 2 - 6 Years', 'Day Care Center')\n",
    "df['LICENSE_DESCRIPTION'] = df['LICENSE_DESCRIPTION'].replace('Day Care Center Under 2 and 2 - 6 Years', 'Day Care Center')\n",
    "df['LICENSE_DESCRIPTION'] = df['LICENSE_DESCRIPTION'].replace('Peddler, non-food', 'Peddler')\n",
    "df['LICENSE_DESCRIPTION'] = df['LICENSE_DESCRIPTION'].replace('Peddler, non-food, special', 'Peddler')\n",
    "df['LICENSE_DESCRIPTION'] = df['LICENSE_DESCRIPTION'].replace('Peddler, food (fruits and vegtables only)', 'Peddler')\n",
    "df['LICENSE_DESCRIPTION'] = df['LICENSE_DESCRIPTION'].replace('Peddler,food - (fruits and vegetables only) - special', 'Peddler')\n",
    "df['LICENSE_DESCRIPTION'] = df['LICENSE_DESCRIPTION'].replace('Tire Facilty Class I (100 - 1,000 Tires)', 'Tire Facilty')\n",
    "df['LICENSE_DESCRIPTION'] = df['LICENSE_DESCRIPTION'].replace('Tire Facility Class II (1,001 - 5,000 Tires)', 'Tire Facilty')\n",
    "df['LICENSE_DESCRIPTION'] = df['LICENSE_DESCRIPTION'].replace('Tire Facility Class III (5,001 - More Tires)', 'Tire Facilty')\n",
    "df['LICENSE_DESCRIPTION'] = df['LICENSE_DESCRIPTION'].replace('Repossessor Class A', 'Repossessor')\n",
    "df['LICENSE_DESCRIPTION'] = df['LICENSE_DESCRIPTION'].replace('Repossessor Class B', 'Repossessor')\n",
    "df['LICENSE_DESCRIPTION'] = df['LICENSE_DESCRIPTION'].replace('Repossessor Class B Employee', 'Repossessor')\n",
    "df['LICENSE_DESCRIPTION'] = df['LICENSE_DESCRIPTION'].replace('Expediter - Class B', 'Expediter')\n",
    "df['LICENSE_DESCRIPTION'] = df['LICENSE_DESCRIPTION'].replace('Expediter - Class A', 'Expediter')\n",
    "df['LICENSE_DESCRIPTION'] = df['LICENSE_DESCRIPTION'].replace('Expediter - Class B Employee', 'Expediter')\n",
    "df['LICENSE_DESCRIPTION'] = df['LICENSE_DESCRIPTION'].replace('Itinerant Merchant, Class II', 'Itinerant Merchant')\n",
    "df['LICENSE_DESCRIPTION'] = df['LICENSE_DESCRIPTION'].replace('Itinerant Merchant, Class I', 'Itinerant Merchant')"
   ]
  },
  {
   "cell_type": "code",
   "execution_count": 40,
   "metadata": {},
   "outputs": [
    {
     "data": {
      "text/plain": [
       "92"
      ]
     },
     "execution_count": 40,
     "metadata": {},
     "output_type": "execute_result"
    }
   ],
   "source": [
    "df.LICENSE_DESCRIPTION.nunique()"
   ]
  },
  {
   "cell_type": "code",
   "execution_count": 41,
   "metadata": {},
   "outputs": [],
   "source": [
    "df['LEGAL_NAME'] = df['LEGAL_NAME'].str.replace('.', '', regex=False)\n",
    "df['DOING_BUSINESS_AS_NAME'] = df['DOING_BUSINESS_AS_NAME'].str.replace('.', '', regex=False)\n",
    "\n",
    "df['BUSINESS_TYPE'] = 'PVT'\n",
    "\n",
    "df['BUSINESS_TYPE'] = np.where(df['LEGAL_NAME'].str.contains('INC'), 'INC', df['BUSINESS_TYPE'])\n",
    "df['BUSINESS_TYPE'] = np.where(df['LEGAL_NAME'].str.contains('INCORPORATED'), 'INC', df['BUSINESS_TYPE'])\n",
    "df['BUSINESS_TYPE'] = np.where(df['DOING_BUSINESS_AS_NAME'].str.contains('INC'), 'INC', df['BUSINESS_TYPE'])\n",
    "df['BUSINESS_TYPE'] = np.where(df['DOING_BUSINESS_AS_NAME'].str.contains('INCORPORATED'), 'INC', df['BUSINESS_TYPE'])\n",
    "df['BUSINESS_TYPE'] = np.where(df['LEGAL_NAME'].str.contains('LLC'), 'LLC', df['BUSINESS_TYPE'])\n",
    "df['BUSINESS_TYPE'] = np.where(df['DOING_BUSINESS_AS_NAME'].str.contains('LLC'), 'LLC', df['BUSINESS_TYPE'])\n",
    "df['BUSINESS_TYPE'] = np.where(df['LEGAL_NAME'].str.contains('CO'), 'CORP', df['BUSINESS_TYPE'])\n",
    "df['BUSINESS_TYPE'] = np.where(df['LEGAL_NAME'].str.contains('CORP'), 'CORP', df['BUSINESS_TYPE'])\n",
    "df['BUSINESS_TYPE'] = np.where(df['LEGAL_NAME'].str.contains('CORPORATION'), 'CORP', df['BUSINESS_TYPE'])\n",
    "df['BUSINESS_TYPE'] = np.where(df['DOING_BUSINESS_AS_NAME'].str.contains('CO'), 'CORP', df['BUSINESS_TYPE'])\n",
    "df['BUSINESS_TYPE'] = np.where(df['DOING_BUSINESS_AS_NAME'].str.contains('CORP'), 'CORP', df['BUSINESS_TYPE'])\n",
    "df['BUSINESS_TYPE'] = np.where(df['DOING_BUSINESS_AS_NAME'].str.contains('CORPORATION'), 'CORP', df['BUSINESS_TYPE'])\n",
    "df['BUSINESS_TYPE'] = np.where(df['LEGAL_NAME'].str.contains('LTD'), 'LTD', df['BUSINESS_TYPE'])\n",
    "df['BUSINESS_TYPE'] = np.where(df['LEGAL_NAME'].str.contains('LIMITED'), 'LTD', df['BUSINESS_TYPE'])\n",
    "df['BUSINESS_TYPE'] = np.where(df['DOING_BUSINESS_AS_NAME'].str.contains('LTD'), 'LTD', df['BUSINESS_TYPE'])\n",
    "df['BUSINESS_TYPE'] = np.where(df['DOING_BUSINESS_AS_NAME'].str.contains('LIMITED'), 'LTD', df['BUSINESS_TYPE'])"
   ]
  },
  {
   "cell_type": "code",
   "execution_count": 42,
   "metadata": {},
   "outputs": [
    {
     "data": {
      "text/plain": [
       "CORP    27763\n",
       "PVT     27020\n",
       "INC     24443\n",
       "LLC      5048\n",
       "LTD      1616\n",
       "Name: BUSINESS_TYPE, dtype: int64"
      ]
     },
     "execution_count": 42,
     "metadata": {},
     "output_type": "execute_result"
    }
   ],
   "source": [
    "df.BUSINESS_TYPE.value_counts()"
   ]
  },
  {
   "cell_type": "code",
   "execution_count": 43,
   "metadata": {},
   "outputs": [
    {
     "data": {
      "image/png": "[encoded data removed]",
      "text/plain": [
       "<Figure size 640x480 with 1 Axes>"
      ]
     },
     "metadata": {},
     "output_type": "display_data"
    }
   ],
   "source": [
    "sns.countplot(x=df.BUSINESS_TYPE)\n",
    "plt.show()"
   ]
  },
  {
   "cell_type": "code",
   "execution_count": 44,
   "metadata": {},
   "outputs": [
    {
     "data": {
      "text/plain": [
       "60804      1142\n",
       "60647.0     925\n",
       "60618       889\n",
       "60639       878\n",
       "60007       789\n",
       "           ... \n",
       "90605         1\n",
       "57108         1\n",
       "52358         1\n",
       "16801         1\n",
       "61115.0       1\n",
       "Name: ZIP_CODE, Length: 2456, dtype: int64"
      ]
     },
     "execution_count": 44,
     "metadata": {},
     "output_type": "execute_result"
    }
   ],
   "source": [
    "df.ZIP_CODE.value_counts()"
   ]
  },
  {
   "cell_type": "code",
   "execution_count": 45,
   "metadata": {},
   "outputs": [],
   "source": [
    "df['ZIP_CODE'].fillna(-1, inplace=True)\n",
    "df['ZIP_CODE_MISSING'] = df.apply(lambda x: 1 if x['ZIP_CODE'] == -1 else 0, axis=1)"
   ]
  },
  {
   "cell_type": "code",
   "execution_count": 46,
   "metadata": {},
   "outputs": [
    {
     "data": {
      "text/plain": [
       "<seaborn.axisgrid.FacetGrid at 0x2862b8430>"
      ]
     },
     "execution_count": 46,
     "metadata": {},
     "output_type": "execute_result"
    },
    {
     "data": {
      "image/png": "[encoded data removed]",
      "text/plain": [
       "<Figure size 500x500 with 1 Axes>"
      ]
     },
     "metadata": {},
     "output_type": "display_data"
    }
   ],
   "source": [
    "sns.displot(data=df, x=\"SSA\", bins=10, kde=True)"
   ]
  },
  {
   "cell_type": "code",
   "execution_count": 47,
   "metadata": {},
   "outputs": [],
   "source": [
    "df['SSA'].fillna(-1, inplace=True)"
   ]
  },
  {
   "cell_type": "code",
   "execution_count": 48,
   "metadata": {},
   "outputs": [],
   "source": [
    "df['APPLICATION_REQUIREMENTS_COMPLETE'].fillna(-1, inplace=True)\n",
    "df['APPLICATION_REQUIREMENTS_COMPLETE'] = df.apply(lambda x: 0 if x['APPLICATION_REQUIREMENTS_COMPLETE'] == -1 \n",
    "                                                     else 1, axis=1)"
   ]
  },
  {
   "cell_type": "code",
   "execution_count": null,
   "metadata": {},
   "outputs": [],
   "source": []
  }
 ],
 "metadata": {
  "kernelspec": {
   "display_name": "Python 3.8.13 ('mlenv')",
   "language": "python",
   "name": "python3"
  },
  "language_info": {
   "codemirror_mode": {
    "name": "ipython",
    "version": 3
   },
   "file_extension": ".py",
   "mimetype": "text/x-python",
   "name": "python",
   "nbconvert_exporter": "python",
   "pygments_lexer": "ipython3",
   "version": "3.8.13"
  },
  "orig_nbformat": 4,
  "vscode": {
   "interpreter": {
    "hash": "b70179fab6876b7c595114bbc672b8e83584a7ba0b944e182b5db9aa757417c5"
   }
  }
 },
 "nbformat": 4,
 "nbformat_minor": 2
}
